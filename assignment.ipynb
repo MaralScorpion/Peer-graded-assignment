{
 "cells": [
  {
   "cell_type": "markdown",
   "metadata": {},
   "source": [
    "<center>\n",
    "    <img src=\"https://s3-api.us-geo.objectstorage.softlayer.net/cf-courses-data/CognitiveClass/Logos/organization_logo/organization_logo.png\" width=\"300\" alt=\"cognitiveclass.ai logo\"  />\n",
    "</center>\n"
   ]
  },
  {
   "cell_type": "markdown",
   "metadata": {},
   "source": [
    "#### Add your code below following the instructions given in the course\n"
   ]
  },
  {
   "cell_type": "markdown",
   "metadata": {},
   "source": [
    "# My Jupyter Notebook on IBM Watson Studio"
   ]
  },
  {
   "cell_type": "markdown",
   "metadata": {},
   "source": [
    "**Maral**  \n",
    "My desired occupation: Data Scientist"
   ]
  },
  {
   "cell_type": "markdown",
   "metadata": {},
   "source": [
    "*I am interested in artificial intelligence and data science, cause I admire the power of the predictive models and the influence they have in our life. We are all surronded by data and this field is growing really fast. As a physicist, I have used data in my experiment and I would love to expand my knowledge in this field and continue my carrear in this direction.*"
   ]
  },
  {
   "cell_type": "markdown",
   "metadata": {},
   "source": [
    "### My code addes 2 and 3 together"
   ]
  },
  {
   "cell_type": "code",
   "execution_count": 1,
   "metadata": {},
   "outputs": [
    {
     "data": {
      "text/plain": [
       "5"
      ]
     },
     "execution_count": 1,
     "metadata": {},
     "output_type": "execute_result"
    }
   ],
   "source": [
    "2+3"
   ]
  },
  {
   "cell_type": "markdown",
   "metadata": {},
   "source": [
    "* first item in a bullted list\n",
    "* second itenm\n",
    "---\n",
    "1. first item in a numbered list\n",
    "1. second item\n",
    "---\n",
    "| item 1 | item 2 | item 3 |\n",
    "| -------| ------ | ------ |\n",
    "| a1 | a2 | a3 |\n",
    "| b1 | b2 | b3 |   \n",
    "\n",
    "-----\n",
    "```python\n",
    "s = \"Python syntax highlights\"\n",
    "print s\n",
    "```\n",
    "\n",
    "\n",
    "```javascript\n",
    "var s = \"JavaScript syntax highlights.\";\n",
    "alert(s);\n",
    "```\n",
    "> This is a blockquote\n",
    "\n",
    "~~And here is the end~~"
   ]
  },
  {
   "cell_type": "code",
   "execution_count": null,
   "metadata": {},
   "outputs": [],
   "source": []
  }
 ],
 "metadata": {
  "kernelspec": {
   "display_name": "Python 3 (ipykernel)",
   "language": "python",
   "name": "python3"
  },
  "language_info": {
   "codemirror_mode": {
    "name": "ipython",
    "version": 3
   },
   "file_extension": ".py",
   "mimetype": "text/x-python",
   "name": "python",
   "nbconvert_exporter": "python",
   "pygments_lexer": "ipython3",
   "version": "3.10.5"
  }
 },
 "nbformat": 4,
 "nbformat_minor": 4
}
